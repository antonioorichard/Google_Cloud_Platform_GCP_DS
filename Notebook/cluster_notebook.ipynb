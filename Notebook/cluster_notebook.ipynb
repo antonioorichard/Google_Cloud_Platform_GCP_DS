{
 "cells": [
  {
   "cell_type": "markdown",
   "id": "ef65554b-fe5b-4a16-b4e8-51bf3d7c3ae9",
   "metadata": {},
   "source": [
    "# 0.0 LIBRARY"
   ]
  },
  {
   "cell_type": "code",
   "execution_count": 1,
   "id": "80aa9bb9-7021-4797-b22c-4a74bbd2643f",
   "metadata": {
    "tags": []
   },
   "outputs": [],
   "source": [
    "#!pip install umap-learn -q"
   ]
  },
  {
   "cell_type": "code",
   "execution_count": 2,
   "id": "227967b4-aed5-48f6-924c-9020e72afb4f",
   "metadata": {},
   "outputs": [],
   "source": [
    "#!python3 -c *import import umap.umap_ as umap:print('umap SDK version:{}'.format{umap._version_})"
   ]
  },
  {
   "cell_type": "code",
   "execution_count": 3,
   "id": "d71349ee-d27b-491c-9d24-1c304a8c052e",
   "metadata": {
    "tags": []
   },
   "outputs": [],
   "source": [
    "#!pip freeze # umap 0.5.3"
   ]
  },
  {
   "cell_type": "code",
   "execution_count": 4,
   "id": "b23e9fbc-1bcd-49cf-9877-b75fc5be2c04",
   "metadata": {
    "tags": []
   },
   "outputs": [],
   "source": [
    "import pandas     as pd\n",
    "import numpy      as np\n",
    "import umap.umap_ as umap\n",
    "from typing       import Tuple\n",
    "from functools    import reduce\n",
    "from sklearn.preprocessing import MinMaxScaler\n",
    "from sklearn.manifold      import TSNE\n",
    "from sklearn.decomposition import PCA\n",
    "from sklearn.cluster       import KMeans\n",
    "from sklearn.mixture       import GaussianMixture\n",
    "from sklearn.ensemble      import RandomForestRegressor\n",
    "from sklearn.metrics       import silhouette_score\n",
    "from google.cloud          import bigquery"
   ]
  },
  {
   "cell_type": "markdown",
   "id": "ff198e25-92ac-447e-a879-762d45e18b9d",
   "metadata": {},
   "source": [
    "# 1.0 Loading data"
   ]
  },
  {
   "cell_type": "code",
   "execution_count": 5,
   "id": "d7c08bb2-b354-4ee4-b8ad-f9660257301f",
   "metadata": {
    "tags": []
   },
   "outputs": [
    {
     "data": {
      "application/vnd.jupyter.widget-view+json": {
       "model_id": "2d608061195e4429a2fb7e031dbb082c",
       "version_major": 2,
       "version_minor": 0
      },
      "text/plain": [
       "Query is running:   0%|          |"
      ]
     },
     "metadata": {},
     "output_type": "display_data"
    },
    {
     "data": {
      "application/vnd.jupyter.widget-view+json": {
       "model_id": "e51cfbacd5c5464299f84c12218cf8a0",
       "version_major": 2,
       "version_minor": 0
      },
      "text/plain": [
       "Downloading:   0%|          |"
      ]
     },
     "metadata": {},
     "output_type": "display_data"
    }
   ],
   "source": [
    "%%bigquery df_raw\n",
    "\n",
    "SELECT * FROM `braided-period-442813-v0.ecommerce_cluster_insider.dados_ecommerce_iterm` LIMIT 1000"
   ]
  },
  {
   "cell_type": "code",
   "execution_count": 6,
   "id": "b2f6e8d4-ae7a-437b-b054-b7c119c6b3a7",
   "metadata": {
    "tags": []
   },
   "outputs": [
    {
     "data": {
      "text/html": [
       "<div>\n",
       "<style scoped>\n",
       "    .dataframe tbody tr th:only-of-type {\n",
       "        vertical-align: middle;\n",
       "    }\n",
       "\n",
       "    .dataframe tbody tr th {\n",
       "        vertical-align: top;\n",
       "    }\n",
       "\n",
       "    .dataframe thead th {\n",
       "        text-align: right;\n",
       "    }\n",
       "</style>\n",
       "<table border=\"1\" class=\"dataframe\">\n",
       "  <thead>\n",
       "    <tr style=\"text-align: right;\">\n",
       "      <th></th>\n",
       "      <th>InvoiceNo</th>\n",
       "      <th>StockCode</th>\n",
       "      <th>Description</th>\n",
       "      <th>Quantity</th>\n",
       "      <th>InvoiceDate</th>\n",
       "      <th>UnitPrice</th>\n",
       "      <th>CustomerID</th>\n",
       "      <th>Country</th>\n",
       "      <th>string_field_8</th>\n",
       "    </tr>\n",
       "  </thead>\n",
       "  <tbody>\n",
       "    <tr>\n",
       "      <th>0</th>\n",
       "      <td>560604</td>\n",
       "      <td>23209</td>\n",
       "      <td>LUNCH BAG DOILEY PATTERN</td>\n",
       "      <td>100</td>\n",
       "      <td>2017-07-18</td>\n",
       "      <td>1.45</td>\n",
       "      <td>15251.0</td>\n",
       "      <td>United Kingdom</td>\n",
       "      <td>None</td>\n",
       "    </tr>\n",
       "    <tr>\n",
       "      <th>1</th>\n",
       "      <td>560604</td>\n",
       "      <td>22993</td>\n",
       "      <td>SET OF 4 PANTRY JELLY MOULDS</td>\n",
       "      <td>72</td>\n",
       "      <td>2017-07-18</td>\n",
       "      <td>1.06</td>\n",
       "      <td>15251.0</td>\n",
       "      <td>United Kingdom</td>\n",
       "      <td>None</td>\n",
       "    </tr>\n",
       "    <tr>\n",
       "      <th>2</th>\n",
       "      <td>560604</td>\n",
       "      <td>22848</td>\n",
       "      <td>BREAD BIN DINER STYLE PINK</td>\n",
       "      <td>4</td>\n",
       "      <td>2017-07-18</td>\n",
       "      <td>14.95</td>\n",
       "      <td>15251.0</td>\n",
       "      <td>United Kingdom</td>\n",
       "      <td>None</td>\n",
       "    </tr>\n",
       "    <tr>\n",
       "      <th>3</th>\n",
       "      <td>560604</td>\n",
       "      <td>22699</td>\n",
       "      <td>ROSES REGENCY TEACUP AND SAUCER</td>\n",
       "      <td>24</td>\n",
       "      <td>2017-07-18</td>\n",
       "      <td>2.55</td>\n",
       "      <td>15251.0</td>\n",
       "      <td>United Kingdom</td>\n",
       "      <td>None</td>\n",
       "    </tr>\n",
       "    <tr>\n",
       "      <th>4</th>\n",
       "      <td>560604</td>\n",
       "      <td>22457</td>\n",
       "      <td>NATURAL SLATE HEART CHALKBOARD</td>\n",
       "      <td>48</td>\n",
       "      <td>2017-07-18</td>\n",
       "      <td>2.55</td>\n",
       "      <td>15251.0</td>\n",
       "      <td>United Kingdom</td>\n",
       "      <td>None</td>\n",
       "    </tr>\n",
       "  </tbody>\n",
       "</table>\n",
       "</div>"
      ],
      "text/plain": [
       "  InvoiceNo StockCode                       Description  Quantity InvoiceDate  \\\n",
       "0    560604     23209         LUNCH BAG DOILEY PATTERN        100  2017-07-18   \n",
       "1    560604     22993      SET OF 4 PANTRY JELLY MOULDS        72  2017-07-18   \n",
       "2    560604     22848        BREAD BIN DINER STYLE PINK         4  2017-07-18   \n",
       "3    560604     22699  ROSES REGENCY TEACUP AND SAUCER         24  2017-07-18   \n",
       "4    560604     22457   NATURAL SLATE HEART CHALKBOARD         48  2017-07-18   \n",
       "\n",
       "   UnitPrice  CustomerID         Country string_field_8  \n",
       "0       1.45     15251.0  United Kingdom           None  \n",
       "1       1.06     15251.0  United Kingdom           None  \n",
       "2      14.95     15251.0  United Kingdom           None  \n",
       "3       2.55     15251.0  United Kingdom           None  \n",
       "4       2.55     15251.0  United Kingdom           None  "
      ]
     },
     "execution_count": 6,
     "metadata": {},
     "output_type": "execute_result"
    }
   ],
   "source": [
    "df_raw.head()"
   ]
  },
  {
   "cell_type": "code",
   "execution_count": 7,
   "id": "d50470ba-5b38-4ed3-aafd-dc462001ef5f",
   "metadata": {
    "tags": []
   },
   "outputs": [
    {
     "data": {
      "text/plain": [
       "(1000, 9)"
      ]
     },
     "execution_count": 7,
     "metadata": {},
     "output_type": "execute_result"
    }
   ],
   "source": [
    "df_raw.shape"
   ]
  },
  {
   "cell_type": "code",
   "execution_count": 8,
   "id": "3b8ed3ec-32f2-4264-9a8e-ed2a85110c9a",
   "metadata": {
    "tags": []
   },
   "outputs": [],
   "source": [
    "df_raw.drop(labels = 'string_field_8', axis = 1, inplace = True)"
   ]
  },
  {
   "cell_type": "markdown",
   "id": "c35a5bef-3e79-4b94-aeb0-aeadef09d184",
   "metadata": {},
   "source": [
    "# 2.0 Data preparation"
   ]
  },
  {
   "cell_type": "code",
   "execution_count": 9,
   "id": "a43238d9-f305-4f3c-8758-a57a2ab2621c",
   "metadata": {
    "tags": []
   },
   "outputs": [
    {
     "data": {
      "text/plain": [
       "InvoiceNo       object\n",
       "StockCode       object\n",
       "Description     object\n",
       "Quantity         Int64\n",
       "InvoiceDate     dbdate\n",
       "UnitPrice      float64\n",
       "CustomerID     float64\n",
       "Country         object\n",
       "dtype: object"
      ]
     },
     "execution_count": 9,
     "metadata": {},
     "output_type": "execute_result"
    }
   ],
   "source": [
    "df_raw.dtypes"
   ]
  },
  {
   "cell_type": "code",
   "execution_count": 10,
   "id": "c4feea14-e82d-4940-b211-5e34dae5c53a",
   "metadata": {
    "tags": []
   },
   "outputs": [],
   "source": [
    "# Trocas os tipos \n",
    "#df_raw['CustomerID'] = df_raw['CustomerID'].astype(int)"
   ]
  },
  {
   "cell_type": "code",
   "execution_count": 11,
   "id": "d0171c07-7f52-4372-b90f-2b6c2e6189e9",
   "metadata": {
    "tags": []
   },
   "outputs": [],
   "source": [
    "#df_raw['InvoiceDate'] = pd.to_datetime(df_raw['InvoiceDate'])"
   ]
  },
  {
   "cell_type": "code",
   "execution_count": 12,
   "id": "d83f8fd9-66c0-48ab-821d-833fc4b9feda",
   "metadata": {},
   "outputs": [],
   "source": [
    "def coluna_para_int( dataframe: pd.DataFrame, nome_coluna: str) -> bool:\n",
    "    \"\"\"\n",
    "    Descrição:\n",
    "        Converte a coluna especificada em um datafreme parao tipo int\n",
    "    \n",
    "    Args: \n",
    "         dataframe(pd.DataFrame): O dataframe a ser processado.\n",
    "         column_name (str): O nome da coluna a ser convertida.\n",
    "    Returns:\n",
    "         bool: True se a conversão foi bem sucedida. False caso contrário.\n",
    "    \"\"\"\n",
    "    if nome_coluna not in dataframe.columns:\n",
    "        raise ValueError(f'Coluna {nome_coluna} não encontrado')\n",
    "    try:    \n",
    "        dataframe[nome_coluna] = dataframe[nome_coluna].astype(int)\n",
    "    except:\n",
    "        raise ValueError(f'Não foi possível converter a coluna {nome_coluna} para inteiro.')\n",
    "    return True"
   ]
  },
  {
   "cell_type": "code",
   "execution_count": 13,
   "id": "071507f8-ab39-4114-b126-0f6fe89655a9",
   "metadata": {},
   "outputs": [],
   "source": [
    "def coluna_para_date( dataframe: pd.DataFrame, nome_coluna: str, formato_data: str = None) -> bool:\n",
    "    \"\"\"\n",
    "    Descrição:\n",
    "        Converte a coluna especificada em um datafreme parao tipo data\n",
    "    \n",
    "    Args: \n",
    "         dataframe(pd.DataFrame): O dataframe a ser processado.\n",
    "         column_name (str): O nome da coluna a ser convertida.\n",
    "    Returns:\n",
    "         bool: True se a conversão foi bem sucedida. False caso contrário.\n",
    "    \"\"\"\n",
    "    if nome_coluna not in dataframe.columns:\n",
    "        raise ValueError(f'Coluna {nome_coluna} não encontrado no dataframe de entrada')\n",
    "    \n",
    "    try:  \n",
    "        if formato_data:\n",
    "            dataframe[nome_coluna] = pd.to_datetime(dataframe[nome_coluna], format = formato_data)\n",
    "        else:\n",
    "            dataframe[nome_coluna] = pd.to_datetime(dataframe[nome_coluna])\n",
    "    except (ValueError, TypeError):\n",
    "        raise ValueError(f'Could not convert column {nome_coluna}')\n",
    "    # Retorna True se a conversão for bem sucedida\n",
    "    return True"
   ]
  },
  {
   "cell_type": "code",
   "execution_count": 14,
   "id": "77079fab-f4e9-423f-86ce-5ef7532ef2e8",
   "metadata": {
    "tags": []
   },
   "outputs": [
    {
     "data": {
      "text/plain": [
       "True"
      ]
     },
     "execution_count": 14,
     "metadata": {},
     "output_type": "execute_result"
    }
   ],
   "source": [
    "coluna_para_int( df_raw, 'CustomerID')"
   ]
  },
  {
   "cell_type": "code",
   "execution_count": 15,
   "id": "a7828471-b478-4802-aae9-04ba624216c5",
   "metadata": {},
   "outputs": [],
   "source": [
    "# Dois dataframes, compres e retornos\n",
    "\n",
    "\n",
    "def keep_features(dataframe: pd.DataFrame, keep_columns: list) -> pd.DataFrame:\n",
    "    \"\"\"\n",
    "    Retorna um DataFrame com as colunas especificadas em keep_colunas\n",
    "    \n",
    "    Args:\n",
    "        dataframe (pd.DataFrame): O DataFrame a ser processado.\n",
    "        keep_columns (list): A lista de nomes de colunas a serem mantidas no DataFrame resultante. \n",
    "    Returns:\n",
    "        pd.DataFrame: O DataFrame resultante com apenas as colunas especificadas em keep_columns.\n",
    "    \"\"\"\n",
    "    return dataframe[keep_columns]\n",
    "\n",
    "def filtragem_features(dataframe_raw: pd.DataFrame) -> Tuple[pd.DataFrame, pd.DataFrame, pd.DataFrame]:\n",
    "    \"\"\"\n",
    "    Descrição\n",
    "    Args:\n",
    "    Retornos: \n",
    "    \"\"\" \n",
    "    df_returns   = dataframe_raw.loc[dataframe_raw['Quantity']<0, ['CustomerID', 'Quantity']]\n",
    "    \n",
    "    df_purchases = dataframe_raw.loc[dataframe_raw['Quantity'] >= 0, :]\n",
    "    \n",
    "    # Filter main data\n",
    "    df_filtered  = keep_features( dataframe_raw, ['InvoiceNo' , 'StockCode', 'Quantity', 'InvoiceDate', 'UnitPrice', \n",
    "                                                  'CustomerID', 'Country'])\n",
    "    return df_filtered, df_purchases, df_returns\n",
    "    "
   ]
  },
  {
   "cell_type": "code",
   "execution_count": 16,
   "id": "9acc4b4d-1b5b-428a-b355-8811a32d32fe",
   "metadata": {
    "tags": []
   },
   "outputs": [],
   "source": [
    "df_filtered, df_purchases, df_returns = filtragem_features(df_raw)"
   ]
  },
  {
   "cell_type": "code",
   "execution_count": 17,
   "id": "ec2df27e-fbc1-432f-bd87-a94573651230",
   "metadata": {
    "tags": []
   },
   "outputs": [
    {
     "data": {
      "text/html": [
       "<div>\n",
       "<style scoped>\n",
       "    .dataframe tbody tr th:only-of-type {\n",
       "        vertical-align: middle;\n",
       "    }\n",
       "\n",
       "    .dataframe tbody tr th {\n",
       "        vertical-align: top;\n",
       "    }\n",
       "\n",
       "    .dataframe thead th {\n",
       "        text-align: right;\n",
       "    }\n",
       "</style>\n",
       "<table border=\"1\" class=\"dataframe\">\n",
       "  <thead>\n",
       "    <tr style=\"text-align: right;\">\n",
       "      <th></th>\n",
       "      <th>InvoiceNo</th>\n",
       "      <th>StockCode</th>\n",
       "      <th>Quantity</th>\n",
       "      <th>InvoiceDate</th>\n",
       "      <th>UnitPrice</th>\n",
       "      <th>CustomerID</th>\n",
       "      <th>Country</th>\n",
       "    </tr>\n",
       "  </thead>\n",
       "  <tbody>\n",
       "    <tr>\n",
       "      <th>0</th>\n",
       "      <td>560604</td>\n",
       "      <td>23209</td>\n",
       "      <td>100</td>\n",
       "      <td>2017-07-18</td>\n",
       "      <td>1.45</td>\n",
       "      <td>15251</td>\n",
       "      <td>United Kingdom</td>\n",
       "    </tr>\n",
       "  </tbody>\n",
       "</table>\n",
       "</div>"
      ],
      "text/plain": [
       "  InvoiceNo StockCode  Quantity InvoiceDate  UnitPrice  CustomerID  \\\n",
       "0    560604     23209       100  2017-07-18       1.45       15251   \n",
       "\n",
       "          Country  \n",
       "0  United Kingdom  "
      ]
     },
     "execution_count": 17,
     "metadata": {},
     "output_type": "execute_result"
    }
   ],
   "source": [
    "df_filtered.head(1)"
   ]
  },
  {
   "cell_type": "code",
   "execution_count": 18,
   "id": "0ed6a387-b9e9-4018-b4c6-13d7dd92c584",
   "metadata": {
    "tags": []
   },
   "outputs": [
    {
     "data": {
      "text/html": [
       "<div>\n",
       "<style scoped>\n",
       "    .dataframe tbody tr th:only-of-type {\n",
       "        vertical-align: middle;\n",
       "    }\n",
       "\n",
       "    .dataframe tbody tr th {\n",
       "        vertical-align: top;\n",
       "    }\n",
       "\n",
       "    .dataframe thead th {\n",
       "        text-align: right;\n",
       "    }\n",
       "</style>\n",
       "<table border=\"1\" class=\"dataframe\">\n",
       "  <thead>\n",
       "    <tr style=\"text-align: right;\">\n",
       "      <th></th>\n",
       "      <th>InvoiceNo</th>\n",
       "      <th>StockCode</th>\n",
       "      <th>Description</th>\n",
       "      <th>Quantity</th>\n",
       "      <th>InvoiceDate</th>\n",
       "      <th>UnitPrice</th>\n",
       "      <th>CustomerID</th>\n",
       "      <th>Country</th>\n",
       "    </tr>\n",
       "  </thead>\n",
       "  <tbody>\n",
       "    <tr>\n",
       "      <th>0</th>\n",
       "      <td>560604</td>\n",
       "      <td>23209</td>\n",
       "      <td>LUNCH BAG DOILEY PATTERN</td>\n",
       "      <td>100</td>\n",
       "      <td>2017-07-18</td>\n",
       "      <td>1.45</td>\n",
       "      <td>15251</td>\n",
       "      <td>United Kingdom</td>\n",
       "    </tr>\n",
       "  </tbody>\n",
       "</table>\n",
       "</div>"
      ],
      "text/plain": [
       "  InvoiceNo StockCode                Description  Quantity InvoiceDate  \\\n",
       "0    560604     23209  LUNCH BAG DOILEY PATTERN        100  2017-07-18   \n",
       "\n",
       "   UnitPrice  CustomerID         Country  \n",
       "0       1.45       15251  United Kingdom  "
      ]
     },
     "execution_count": 18,
     "metadata": {},
     "output_type": "execute_result"
    }
   ],
   "source": [
    "df_purchases.head(1)"
   ]
  },
  {
   "cell_type": "code",
   "execution_count": 19,
   "id": "5a84fa10-0b17-4dd5-be67-48cbed09291d",
   "metadata": {
    "tags": []
   },
   "outputs": [
    {
     "data": {
      "text/html": [
       "<div>\n",
       "<style scoped>\n",
       "    .dataframe tbody tr th:only-of-type {\n",
       "        vertical-align: middle;\n",
       "    }\n",
       "\n",
       "    .dataframe tbody tr th {\n",
       "        vertical-align: top;\n",
       "    }\n",
       "\n",
       "    .dataframe thead th {\n",
       "        text-align: right;\n",
       "    }\n",
       "</style>\n",
       "<table border=\"1\" class=\"dataframe\">\n",
       "  <thead>\n",
       "    <tr style=\"text-align: right;\">\n",
       "      <th></th>\n",
       "      <th>CustomerID</th>\n",
       "      <th>Quantity</th>\n",
       "    </tr>\n",
       "  </thead>\n",
       "  <tbody>\n",
       "    <tr>\n",
       "      <th>24</th>\n",
       "      <td>17581</td>\n",
       "      <td>-2</td>\n",
       "    </tr>\n",
       "    <tr>\n",
       "      <th>25</th>\n",
       "      <td>17581</td>\n",
       "      <td>-4</td>\n",
       "    </tr>\n",
       "    <tr>\n",
       "      <th>26</th>\n",
       "      <td>17581</td>\n",
       "      <td>-8</td>\n",
       "    </tr>\n",
       "    <tr>\n",
       "      <th>27</th>\n",
       "      <td>16255</td>\n",
       "      <td>-2</td>\n",
       "    </tr>\n",
       "    <tr>\n",
       "      <th>28</th>\n",
       "      <td>16255</td>\n",
       "      <td>-1</td>\n",
       "    </tr>\n",
       "  </tbody>\n",
       "</table>\n",
       "</div>"
      ],
      "text/plain": [
       "    CustomerID  Quantity\n",
       "24       17581        -2\n",
       "25       17581        -4\n",
       "26       17581        -8\n",
       "27       16255        -2\n",
       "28       16255        -1"
      ]
     },
     "execution_count": 19,
     "metadata": {},
     "output_type": "execute_result"
    }
   ],
   "source": [
    "df_returns.head()"
   ]
  },
  {
   "cell_type": "markdown",
   "id": "5ffb37a0-966a-4c56-b5c3-404ba3e8b393",
   "metadata": {},
   "source": [
    "# 3.0 Feature engineering\n"
   ]
  },
  {
   "cell_type": "code",
   "execution_count": 20,
   "id": "d08045c5-51b1-43dd-898d-826c0d4448d1",
   "metadata": {},
   "outputs": [],
   "source": [
    "def calculate_gross_revenue(dataframe_purchases: pd.DataFrame) -> pd.DataFrame:\n",
    "    \"\"\"\n",
    "    Calcula a receita bruta de cada cliente com base nas colunas 'Quantity' e \n",
    "    'UnitPrice' e retorna um DataFrame com as colunas 'CustomerID' e 'gross_revenue'.\n",
    "    Args: \n",
    "        dataframe_purchases (pd.Dataframe): O DataFrame das compras contendo as colunas\n",
    "        'CustomerID', 'Quantity'\n",
    "    Returns:\n",
    "        pd.DataFrame: O DataFrame resultante contendo as colunas 'CustomerID' e 'grass revenue',\n",
    "    \"\"\"\n",
    "    # Verifica se as colunas necessárias estão presentes ou DataFrame de entrada\n",
    "    required_columns = {'CustomerID', 'Quantity', 'UnitPrice'}\n",
    "    missing_columns  = required_columns - set(dataframe_purchases.columns)\n",
    "    if missing_columns: \n",
    "        raise ValueError(f\"O DataFrame de entrada está faltando as sequintes colunas: {missing_columns}\")\n",
    "        \n",
    "        # Calcula a receita bruta e agrupa por CustomerID\n",
    "    df = dataframe_purchases.copy()\n",
    "    df.loc[:, 'gross_revenue'] = df.loc[:, 'Quantity'] * df.loc[:, 'UnitPrice']\n",
    "    grouped_df = df.groupby('CustomerID').agg({'gross_revenue':'sum'}).reset_index().copy()\n",
    "    \n",
    "    return grouped_df\n",
    "\n",
    "def create_recency(dataframe_purchases: pd.DataFrame, dataframe_filtered: pd.DataFrame) -> pd.DataFrame:\n",
    "    \"\"\"\n",
    "    Calcula a recência da última compra para cada cliente.\n",
    "    \n",
    "    Args:\n",
    "        dataframe_purchases(pd.DataFrame): DataFrame com as informações de compras de todos os clientes.\n",
    "        dataframe_filtered (pd.DataFrame): DataFrame filtrado apenas com as informaões dos clientes que des\n",
    "        \n",
    "    Returns: \n",
    "        pd.DataFrame: DataFrame com as colunas 'CustomerID' e 'recency_days', indicando a recẽncia em dias de\n",
    "        \n",
    "    \"\"\"\n",
    "    required_columns = {'CustomerID', 'InvoiceDate'}\n",
    "    missing_columns  = required_columns - set(dataframe_purchases.columns)\n",
    "    if missing_columns:\n",
    "        raise ValueError(f\"O DataFrame de entrada está faltando as seguintes colunas: {missing_columns}\")\n",
    "    # calcula a data da útima compra de cada cliente.\n",
    "    df_recency = dataframe_purchases.loc[:,['CustomerID', 'InvoiceDate']].groupby('CustomerID').max().reset_index()\n",
    "    \n",
    "    # calcula a recência em dias da última compra de cada cliente em relação à data mais recente da base de\n",
    "    dataframe_filtered['InvoiceDate'] = pd.to_datetime( dataframe_filtered['InvoiceDate'])\n",
    "    df_recency['InvoiceDate']         = pd.to_datetime( df_recency['InvoiceDate'])\n",
    "    df_recency['recency_days'] = (dataframe_filtered['InvoiceDate'].max() - df_recency['InvoiceDate']).dt.days\n",
    "    \n",
    "    # retorna o DataFrame apenas com as colunas 'CustomerID' e 'recency_days'\n",
    "    return df_recency[['CustomerID', 'recency_days']]\n",
    "\n",
    "def create_quantity_purchased( dataframe_purchases: pd.DataFrame ) -> pd.DataFrame:\n",
    "    \"\"\"\n",
    "    Calcula a quantidade de produtos adquiridos por cada cliente.\n",
    "    \n",
    "    Args: \n",
    "        dataframe_purchases (pd.DataFrame): DataFrame com as informações de compras de todos os clientes.\n",
    "        \n",
    "    Returns:\n",
    "        pd.DataFrame: DataFrame com as colunas 'CustomerID' e 'qty_products', indicando a quantidade de produtos\n",
    "        \n",
    "    \"\"\"\n",
    "    required_columns = {'CustomerID', 'StockCode'}\n",
    "    missing_columns  = required_columns - set(dataframe_purchases.columns)\n",
    "    if missing_columns:\n",
    "        raise ValueError(f\"O DataFrame de entrada está faltando as seguintes colunas: {missing_columns}\")\n",
    "    #agrupa as informações de compras por 'CustomerID' e conta o número de StockCode para cada grupo\n",
    "    qty_purchased = dataframe_purchases.loc[:, ['CustomerID', 'StockCode']].groupby('CustomerID').count()\n",
    "                         \n",
    "    # renomeia o DataFrame com as colunas 'CustomerID' e 'qty_products'\n",
    "    qty_purchased = qty_purchased.reset_index().rename( columns={'StockCode': 'qty_products'})\n",
    "    #retorna a DataFrame com as coclunas 'CustomerID' e 'qty_products'\n",
    "    return qty_purchased\n",
    "    \n",
    "def create_freq_purchases(dataframe_purchases: pd.DataFrame) -> pd.DataFrame:\n",
    "    \"\"\"\n",
    "    Calculates the purchase frequency of each customer based on the purchase history. \n",
    "    \n",
    "    Parameters\n",
    "    \n",
    "    ----------\n",
    "    pd.DataFrame\n",
    "        DataFrame with the purchase frequency of each customer, containing columns CustomerID and frequency\n",
    "    \"\"\"\n",
    "    required_columns = { 'CustomerID', 'InvoiceNo', 'InvoiceDate'}\n",
    "    missing_columns  = required_columns - set(dataframe_purchases.columns)\n",
    "    if missing_columns:\n",
    "        raise ValueError(f\"O DataFrame de entrada está faltando as seguintes colunas: {missing_columns}\")\n",
    "    # Calculate time range of purchases for each customer\n",
    "    df_aux = (dataframe_purchases[['CustomerID', 'InvoiceNo', 'InvoiceDate']]\n",
    "              .drop_duplicates()\n",
    "              .groupby('CustomerID')\n",
    "              .agg(max_ = ('InvoiceDate', 'max'), \n",
    "                   min_ = ('InvoiceDate', 'min'),\n",
    "                   days_= ('InvoiceDate', lambda x: (( x.max() - x.min()).days) + 1),\n",
    "                   buy_ = ('InvoiceNo', 'count')).reset_index())\n",
    "                         \n",
    "    # Calculate frequency of purchases for each customer\n",
    "    df_aux['frequency'] = df_aux[['buy_', 'days_']].apply(\n",
    "        lambda x: x['buy_'] / x['days_'] if x['days_'] != 0 else 0, axis = 1)\n",
    "    \n",
    "    return df_aux\n",
    "\n",
    "def create_qty_returns(dataframe_returns:pd.DataFrame) -> pd.DataFrame:\n",
    "    \"\"\"\n",
    "    Computes the total quantity of return products for each customer\n",
    "    \n",
    "    Args:\n",
    "        dataframe_returns: A pandas DataFrame cocntaining information about returns.\n",
    "    Returns: \n",
    "        A pandas DataFrame with the total quantity of returned product for each customer.\n",
    "    \"\"\"\n",
    "    # Validate input data\n",
    "    if not all( col in dataframe_returns.columns for col in [ 'CustomerID', 'Quantity']):\n",
    "            raise ValueError(\"Input DataFrame must contain 'CustomerID' and 'Quantity' columns\")\n",
    "    \n",
    "    # Compupte quantity of rerturns\n",
    "    df_returns = dataframe_returns[['CustomerID', 'Quantity']].groupby('CustomerID').sum().reset_index().rename(columns = {'Quantity':'qty_returns'})\n",
    "    df_returns['qty_returns'] = df_returns['qty_returns']* -1\n",
    "    \n",
    "    return df_returns\n",
    "\n",
    "def run_feature_engineering( dataframe_filtered: pd.DataFrame, dataframe_purchases: pd.DataFrame, dataframe_returns: pd.DataFrame) -> pd.DataFrame:\n",
    "    \"\"\"\n",
    "    Performs feature engineering on the input dataframes and returns a new dataframe with the engineered features\n",
    "    \n",
    "    Args: \n",
    "        dataframe_filtered : A pandas DataFrame containing filtered customer order data.\n",
    "        dataframe_purchases: A pandas DataFrame containing customer purchase data. \n",
    "        dataframe_returns  : A pandas DataFrame containing customer return data.\n",
    "        \n",
    "    Returns:\n",
    "        A pandas DataFrame with the engineered features for each customer.\n",
    "    \"\"\"\n",
    "    # Check if input dataframes are empty\n",
    "    if dataframe_filtered.empty:\n",
    "        raise ValueError(\"Input DataFrame 'dataframe_filtered' is empty\")\n",
    "    if dataframe_purchases.empty:\n",
    "        raise ValueError(\"Input DataFrame 'dataframe_purchases' is empty\")\n",
    " \n",
    "    # Check if required_columns are present in input daframes\n",
    "    required_columns = ['CustomerID', 'InvoiceDate', 'StockCode', 'Quantity', 'UnitPrice']\n",
    "    for df, name in zip( [dataframe_filtered, dataframe_purchases], ['dataframe_iltererd', 'dataframe_purchases']):\n",
    "        missing_columns = set( required_columns) - set(df.columns)\n",
    "        if missing_columns:\n",
    "            raise ValueError(f\"Missing_columns {missing_columns} in input DataFrame '{name}'\")\n",
    "        if 'CustomerID' not in dataframe_returns.columns:\n",
    "            raise ValueError( \"Column 'CustomerID' not found in input DataFrame 'dataframe_returns'\")\n",
    "        if 'Quantity' not in dataframe_returns.columns: \n",
    "                         raise ValueError(\"Column 'Quantity' not found in input DataFrame 'dataframe_returns'\")\n",
    "                         \n",
    "        # Perform feature engineering \n",
    "        df_fengi        = keep_features(dataframe_filtered,['CustomerID']).drop_duplicates( ignore_index = True)\n",
    "        gross_revenue   = calculate_gross_revenue(dataframe_purchases)\n",
    "        df_recency      = create_recency( dataframe_purchases, dataframe_filtered)\n",
    "        df_qty_products = create_quantity_purchased( dataframe_purchases)\n",
    "        df_freq         = create_freq_purchases( dataframe_purchases)\n",
    "        returns         = create_qty_returns( dataframe_returns)\n",
    "        \n",
    "        # Merge dataframes\n",
    "        dfs             = [df_fengi, gross_revenue, df_recency, df_qty_products, df_freq, returns]\n",
    "        df_fengi        = reduce( lambda left,right: pd.merge( left, right, on = 'CustomerID', how = 'left'), dfs)\n",
    "        \n",
    "        # Fil NaN values\n",
    "        df_fengi['qty_returns'] = df_fengi['qty_returns' ].fillna(0)\n",
    "         \n",
    "        # Select final features and return dataframe\n",
    "        features        = ['CustomerID', 'gross_revenue','recency_days', 'qty_products', 'frequency', 'qty_returns'] \n",
    "        \n",
    "        return keep_features( df_fengi, features).dropna()"
   ]
  },
  {
   "cell_type": "code",
   "execution_count": 21,
   "id": "5dfb7b2e-fb57-4bc9-808e-dc1af1fbc4a7",
   "metadata": {
    "tags": []
   },
   "outputs": [
    {
     "name": "stderr",
     "output_type": "stream",
     "text": [
      "/var/tmp/ipykernel_3380/1967922874.py:44: SettingWithCopyWarning: \n",
      "A value is trying to be set on a copy of a slice from a DataFrame.\n",
      "Try using .loc[row_indexer,col_indexer] = value instead\n",
      "\n",
      "See the caveats in the documentation: https://pandas.pydata.org/pandas-docs/stable/user_guide/indexing.html#returning-a-view-versus-a-copy\n",
      "  dataframe_filtered['InvoiceDate'] = pd.to_datetime( dataframe_filtered['InvoiceDate'])\n"
     ]
    },
    {
     "data": {
      "text/html": [
       "<div>\n",
       "<style scoped>\n",
       "    .dataframe tbody tr th:only-of-type {\n",
       "        vertical-align: middle;\n",
       "    }\n",
       "\n",
       "    .dataframe tbody tr th {\n",
       "        vertical-align: top;\n",
       "    }\n",
       "\n",
       "    .dataframe thead th {\n",
       "        text-align: right;\n",
       "    }\n",
       "</style>\n",
       "<table border=\"1\" class=\"dataframe\">\n",
       "  <thead>\n",
       "    <tr style=\"text-align: right;\">\n",
       "      <th></th>\n",
       "      <th>CustomerID</th>\n",
       "      <th>gross_revenue</th>\n",
       "      <th>recency_days</th>\n",
       "      <th>qty_products</th>\n",
       "      <th>frequency</th>\n",
       "      <th>qty_returns</th>\n",
       "    </tr>\n",
       "  </thead>\n",
       "  <tbody>\n",
       "    <tr>\n",
       "      <th>0</th>\n",
       "      <td>15251</td>\n",
       "      <td>464.72</td>\n",
       "      <td>0.0</td>\n",
       "      <td>5.0</td>\n",
       "      <td>1.0</td>\n",
       "      <td>0</td>\n",
       "    </tr>\n",
       "    <tr>\n",
       "      <th>1</th>\n",
       "      <td>17306</td>\n",
       "      <td>611.24</td>\n",
       "      <td>0.0</td>\n",
       "      <td>4.0</td>\n",
       "      <td>1.0</td>\n",
       "      <td>0</td>\n",
       "    </tr>\n",
       "    <tr>\n",
       "      <th>2</th>\n",
       "      <td>12510</td>\n",
       "      <td>217.52</td>\n",
       "      <td>0.0</td>\n",
       "      <td>3.0</td>\n",
       "      <td>1.0</td>\n",
       "      <td>0</td>\n",
       "    </tr>\n",
       "    <tr>\n",
       "      <th>3</th>\n",
       "      <td>13854</td>\n",
       "      <td>313.76</td>\n",
       "      <td>0.0</td>\n",
       "      <td>4.0</td>\n",
       "      <td>1.0</td>\n",
       "      <td>0</td>\n",
       "    </tr>\n",
       "    <tr>\n",
       "      <th>4</th>\n",
       "      <td>15587</td>\n",
       "      <td>111.96</td>\n",
       "      <td>0.0</td>\n",
       "      <td>2.0</td>\n",
       "      <td>1.0</td>\n",
       "      <td>0</td>\n",
       "    </tr>\n",
       "  </tbody>\n",
       "</table>\n",
       "</div>"
      ],
      "text/plain": [
       "   CustomerID  gross_revenue  recency_days  qty_products  frequency  \\\n",
       "0       15251         464.72           0.0           5.0        1.0   \n",
       "1       17306         611.24           0.0           4.0        1.0   \n",
       "2       12510         217.52           0.0           3.0        1.0   \n",
       "3       13854         313.76           0.0           4.0        1.0   \n",
       "4       15587         111.96           0.0           2.0        1.0   \n",
       "\n",
       "   qty_returns  \n",
       "0            0  \n",
       "1            0  \n",
       "2            0  \n",
       "3            0  \n",
       "4            0  "
      ]
     },
     "execution_count": 21,
     "metadata": {},
     "output_type": "execute_result"
    }
   ],
   "source": [
    "df_fengi = run_feature_engineering(df_filtered, df_purchases, df_returns)\n",
    "df_fengi.head()"
   ]
  },
  {
   "cell_type": "markdown",
   "id": "99b86d88-c263-4558-982c-7ae90f3b2701",
   "metadata": {},
   "source": [
    "# 4.0 EDA \n"
   ]
  },
  {
   "cell_type": "code",
   "execution_count": 22,
   "id": "1c155b74-058f-4069-a281-fd469a185215",
   "metadata": {
    "tags": []
   },
   "outputs": [
    {
     "data": {
      "text/html": [
       "<div>\n",
       "<style scoped>\n",
       "    .dataframe tbody tr th:only-of-type {\n",
       "        vertical-align: middle;\n",
       "    }\n",
       "\n",
       "    .dataframe tbody tr th {\n",
       "        vertical-align: top;\n",
       "    }\n",
       "\n",
       "    .dataframe thead th {\n",
       "        text-align: right;\n",
       "    }\n",
       "</style>\n",
       "<table border=\"1\" class=\"dataframe\">\n",
       "  <thead>\n",
       "    <tr style=\"text-align: right;\">\n",
       "      <th></th>\n",
       "      <th>gross_revenue</th>\n",
       "      <th>recency_days</th>\n",
       "      <th>qty_products</th>\n",
       "      <th>frequency</th>\n",
       "      <th>qty_returns</th>\n",
       "    </tr>\n",
       "  </thead>\n",
       "  <tbody>\n",
       "    <tr>\n",
       "      <th>0</th>\n",
       "      <td>464.72</td>\n",
       "      <td>0.0</td>\n",
       "      <td>5.0</td>\n",
       "      <td>1.0</td>\n",
       "      <td>0</td>\n",
       "    </tr>\n",
       "    <tr>\n",
       "      <th>1</th>\n",
       "      <td>611.24</td>\n",
       "      <td>0.0</td>\n",
       "      <td>4.0</td>\n",
       "      <td>1.0</td>\n",
       "      <td>0</td>\n",
       "    </tr>\n",
       "    <tr>\n",
       "      <th>2</th>\n",
       "      <td>217.52</td>\n",
       "      <td>0.0</td>\n",
       "      <td>3.0</td>\n",
       "      <td>1.0</td>\n",
       "      <td>0</td>\n",
       "    </tr>\n",
       "    <tr>\n",
       "      <th>3</th>\n",
       "      <td>313.76</td>\n",
       "      <td>0.0</td>\n",
       "      <td>4.0</td>\n",
       "      <td>1.0</td>\n",
       "      <td>0</td>\n",
       "    </tr>\n",
       "    <tr>\n",
       "      <th>4</th>\n",
       "      <td>111.96</td>\n",
       "      <td>0.0</td>\n",
       "      <td>2.0</td>\n",
       "      <td>1.0</td>\n",
       "      <td>0</td>\n",
       "    </tr>\n",
       "  </tbody>\n",
       "</table>\n",
       "</div>"
      ],
      "text/plain": [
       "   gross_revenue  recency_days  qty_products  frequency  qty_returns\n",
       "0         464.72           0.0           5.0        1.0            0\n",
       "1         611.24           0.0           4.0        1.0            0\n",
       "2         217.52           0.0           3.0        1.0            0\n",
       "3         313.76           0.0           4.0        1.0            0\n",
       "4         111.96           0.0           2.0        1.0            0"
      ]
     },
     "execution_count": 22,
     "metadata": {},
     "output_type": "execute_result"
    }
   ],
   "source": [
    "df_eda = keep_features( df_fengi, ['gross_revenue', 'recency_days', 'qty_products', 'frequency', 'qty_returns'])\n",
    "df_eda.head()"
   ]
  },
  {
   "cell_type": "markdown",
   "id": "e41e2962-2333-4f6e-a839-e4e2feba852c",
   "metadata": {},
   "source": [
    "# 5.0 Experimentation"
   ]
  },
  {
   "cell_type": "markdown",
   "id": "aa4e3001-5675-4f69-8772-405a081f99cf",
   "metadata": {
    "tags": []
   },
   "source": [
    "## 5.1. K clusters"
   ]
  },
  {
   "cell_type": "code",
   "execution_count": 23,
   "id": "6f7548c0-e160-4f08-b13e-e3fb4989d155",
   "metadata": {
    "tags": []
   },
   "outputs": [
    {
     "data": {
      "text/plain": [
       "array([2, 3, 4])"
      ]
     },
     "execution_count": 23,
     "metadata": {},
     "output_type": "execute_result"
    }
   ],
   "source": [
    "k_clusters = np.arange(2,5,1)\n",
    "k_clusters"
   ]
  },
  {
   "cell_type": "markdown",
   "id": "dc79583f-0c1b-4e6e-8d43-c221579d26c1",
   "metadata": {},
   "source": [
    "## 5.2 Scaler"
   ]
  },
  {
   "cell_type": "code",
   "execution_count": 24,
   "id": "3160fc75-5bb2-43f8-a607-95fbf61c6342",
   "metadata": {},
   "outputs": [],
   "source": [
    "scaler = MinMaxScaler()"
   ]
  },
  {
   "cell_type": "markdown",
   "id": "2fd84485-2f00-40ef-b8f5-fc128cbf9ce1",
   "metadata": {},
   "source": [
    "## 5.3 Algoritmos de redução de dimensionalidade"
   ]
  },
  {
   "cell_type": "code",
   "execution_count": 25,
   "id": "c2f97c33-2897-42fc-b5dd-58ba9d3bf1f6",
   "metadata": {},
   "outputs": [],
   "source": [
    "def train_pca( \n",
    "    scaler, dataframe: pd.DataFrame, to_scaling: bool = True, **kwargs\n",
    ") -> pd.DataFrame:\n",
    "    \"\"\"\n",
    "    Treina o modelo PCA no dataframe de entrarda e aplica o aos dados usando o scaler especificado\n",
    "    \n",
    "    Args:  \n",
    "        scaler: objeto scaler para transformar os dados \n",
    "        dataframe  ( pd.DataFrame ): detaframe de entrada\n",
    "        k_clusters ( int ): número de clusters para os algoritimos de clustering\n",
    "        to_scaling ( bool ): indica se os dados devem ser escalados antes de cplica o PCA (padrão True)\n",
    "    **kwargs: argumentos adicionais para a inicialização do modelo PCA\n",
    "    \n",
    "    Raises:\n",
    "        ValueError: Se o dataframe de entrada estiver vazio\n",
    "    \"\"\"\n",
    "    if dataframe.empty:\n",
    "        raise ValueError('Input dataframe is empty.')\n",
    "    if to_scaling:\n",
    "        X = scaler.fit_transform( dataframe)\n",
    "    else:\n",
    "        X = dataframe.copy()\n",
    "    pca = PCA(**kwargs)\n",
    "    principal_components = pca.fit_transform(X)\n",
    "    df_pca = pd.DataFrame(principal_components)\n",
    "    return df_pca\n",
    "\n",
    "def train_umap( \n",
    "    scaler, dataframe: pd.DataFrame, to_scaling: bool = True, **kwargs\n",
    ")-> pd.DataFrame:\n",
    "    \"\"\"\n",
    "    \n",
    "    \"\"\"\n",
    "    if dataframe.empty:\n",
    "        raise ValueError('Input dataframe is empty.')\n",
    "    if to_scaling:\n",
    "        X = scaler.fit_transform(dataframe)\n",
    "    else:\n",
    "        x = dataframe.copy\n",
    "        \n",
    "    reducer = umap.UMAP(random_state = 42, **kwargs)\n",
    "    embedding = reducer.fit_transform(X)\n",
    "    \n",
    "    df_umap = pd.DataFrame()\n",
    "    df_umap['embedding_x'] = embedding[:, 0]\n",
    "    df_umap['embedding_y'] = embedding[:, 1]\n",
    "    return df_umap\n",
    "\n",
    "def train_tsne(\n",
    "   scaler, dataframe: pd.DataFrame, to_scaling: bool = True, **kwargs\n",
    ")-> pd.DataFrame:\n",
    "    \"\"\"\n",
    "    \"\"\"\n",
    "    if dataframe.empty:\n",
    "        raise ValueError(\"Input dataframe is empty.\")\n",
    "    if to_scaling:\n",
    "        X = scaler.fit_transform(dataframe)\n",
    "    else:\n",
    "        X = dataframe.copy()\n",
    "    \n",
    "    reducer = TSNE(random_state = 42, **kwargs)\n",
    "    embedding = reducer.fit_transform(X)\n",
    "    \n",
    "    df_tsne = pd.DataFrame()\n",
    "    df_tsne['embedding_x'] = embedding[:, 0]\n",
    "    df_tsne['embedding_y'] = embedding[:, 1]\n",
    "    return df_tsne\n",
    "\n",
    "def train_tree_embedding( scaler, dataframe:pd.DataFrame, \n",
    "                         target: str = 'gross_revenue', **kwargs\n",
    "                        ) -> pd.DataFrame:\n",
    "    \"\"\"\n",
    "    \"\"\"\n",
    "    #Separate features and target varible\n",
    "    X = dataframe.drop( columns = [target], axis = 1 )\n",
    "    X = pd.DataFrame(scaler.fit_transform(X.values), columns = X.columns,\n",
    "                     index = X.index)\n",
    "    y = dataframe[target]\n",
    "    \n",
    "    # Define and train the model\n",
    "    rf_model = RandomForestRegressor(random_state = 42, **kwargs)\n",
    "    rf_model.fit(X,y)\n",
    "    \n",
    "    # Compute leaf indices for each simple \n",
    "    leaf_indices = rf_model.apply(X)\n",
    "    \n",
    "    # Create DataFrame with leaf_indices\n",
    "    df_leaf = pd.DataFrame( leaf_indices)\n",
    "    \n",
    "    return df_leaf"
   ]
  },
  {
   "cell_type": "code",
   "execution_count": 26,
   "id": "a895dcf9-da4b-4fd5-83ea-06b5737b6b61",
   "metadata": {
    "tags": []
   },
   "outputs": [],
   "source": [
    "df_pca = train_pca(scaler, df_eda, n_components = 2 )"
   ]
  },
  {
   "cell_type": "code",
   "execution_count": 27,
   "id": "dca4751a-e76b-4264-8b92-b51c7111391f",
   "metadata": {
    "tags": []
   },
   "outputs": [
    {
     "name": "stderr",
     "output_type": "stream",
     "text": [
      "/opt/conda/lib/python3.10/site-packages/sklearn/utils/deprecation.py:151: FutureWarning: 'force_all_finite' was renamed to 'ensure_all_finite' in 1.6 and will be removed in 1.8.\n",
      "  warnings.warn(\n",
      "/opt/conda/lib/python3.10/site-packages/umap/umap_.py:1952: UserWarning: n_jobs value 1 overridden to 1 by setting random_state. Use no seed for parallelism.\n",
      "  warn(\n"
     ]
    }
   ],
   "source": [
    "df_umap = train_umap(scaler, df_eda)"
   ]
  },
  {
   "cell_type": "code",
   "execution_count": 28,
   "id": "094b70b2-66b7-423f-aa2b-20cbd9e19b02",
   "metadata": {
    "tags": []
   },
   "outputs": [],
   "source": [
    "df_tsne = train_tsne( scaler, df_eda )"
   ]
  },
  {
   "cell_type": "code",
   "execution_count": 29,
   "id": "7a2a2965-9682-46f7-ac9c-683411b6d680",
   "metadata": {
    "tags": []
   },
   "outputs": [],
   "source": [
    "df_tree = train_tree_embedding(scaler, df_eda )"
   ]
  },
  {
   "cell_type": "code",
   "execution_count": 30,
   "id": "a558c654-f4ff-4c64-8013-074b4fbc8266",
   "metadata": {
    "tags": []
   },
   "outputs": [
    {
     "data": {
      "text/html": [
       "<div>\n",
       "<style scoped>\n",
       "    .dataframe tbody tr th:only-of-type {\n",
       "        vertical-align: middle;\n",
       "    }\n",
       "\n",
       "    .dataframe tbody tr th {\n",
       "        vertical-align: top;\n",
       "    }\n",
       "\n",
       "    .dataframe thead th {\n",
       "        text-align: right;\n",
       "    }\n",
       "</style>\n",
       "<table border=\"1\" class=\"dataframe\">\n",
       "  <thead>\n",
       "    <tr style=\"text-align: right;\">\n",
       "      <th></th>\n",
       "      <th>0</th>\n",
       "      <th>1</th>\n",
       "    </tr>\n",
       "  </thead>\n",
       "  <tbody>\n",
       "    <tr>\n",
       "      <th>0</th>\n",
       "      <td>-0.129637</td>\n",
       "      <td>-0.166202</td>\n",
       "    </tr>\n",
       "    <tr>\n",
       "      <th>1</th>\n",
       "      <td>-0.110078</td>\n",
       "      <td>-0.191893</td>\n",
       "    </tr>\n",
       "    <tr>\n",
       "      <th>2</th>\n",
       "      <td>-0.177194</td>\n",
       "      <td>-0.157525</td>\n",
       "    </tr>\n",
       "    <tr>\n",
       "      <th>3</th>\n",
       "      <td>-0.157805</td>\n",
       "      <td>-0.158821</td>\n",
       "    </tr>\n",
       "    <tr>\n",
       "      <th>4</th>\n",
       "      <td>-0.198078</td>\n",
       "      <td>-0.155192</td>\n",
       "    </tr>\n",
       "  </tbody>\n",
       "</table>\n",
       "</div>"
      ],
      "text/plain": [
       "          0         1\n",
       "0 -0.129637 -0.166202\n",
       "1 -0.110078 -0.191893\n",
       "2 -0.177194 -0.157525\n",
       "3 -0.157805 -0.158821\n",
       "4 -0.198078 -0.155192"
      ]
     },
     "execution_count": 30,
     "metadata": {},
     "output_type": "execute_result"
    }
   ],
   "source": [
    "df_pca.head()"
   ]
  },
  {
   "cell_type": "code",
   "execution_count": 31,
   "id": "6047450e-d293-4e5b-88e4-954a9e84153b",
   "metadata": {
    "tags": []
   },
   "outputs": [
    {
     "data": {
      "text/html": [
       "<div>\n",
       "<style scoped>\n",
       "    .dataframe tbody tr th:only-of-type {\n",
       "        vertical-align: middle;\n",
       "    }\n",
       "\n",
       "    .dataframe tbody tr th {\n",
       "        vertical-align: top;\n",
       "    }\n",
       "\n",
       "    .dataframe thead th {\n",
       "        text-align: right;\n",
       "    }\n",
       "</style>\n",
       "<table border=\"1\" class=\"dataframe\">\n",
       "  <thead>\n",
       "    <tr style=\"text-align: right;\">\n",
       "      <th></th>\n",
       "      <th>embedding_x</th>\n",
       "      <th>embedding_y</th>\n",
       "    </tr>\n",
       "  </thead>\n",
       "  <tbody>\n",
       "    <tr>\n",
       "      <th>0</th>\n",
       "      <td>0.640449</td>\n",
       "      <td>5.697544</td>\n",
       "    </tr>\n",
       "    <tr>\n",
       "      <th>1</th>\n",
       "      <td>1.041892</td>\n",
       "      <td>5.568538</td>\n",
       "    </tr>\n",
       "    <tr>\n",
       "      <th>2</th>\n",
       "      <td>0.568434</td>\n",
       "      <td>6.483901</td>\n",
       "    </tr>\n",
       "    <tr>\n",
       "      <th>3</th>\n",
       "      <td>0.544053</td>\n",
       "      <td>6.181122</td>\n",
       "    </tr>\n",
       "    <tr>\n",
       "      <th>4</th>\n",
       "      <td>0.164315</td>\n",
       "      <td>6.482210</td>\n",
       "    </tr>\n",
       "  </tbody>\n",
       "</table>\n",
       "</div>"
      ],
      "text/plain": [
       "   embedding_x  embedding_y\n",
       "0     0.640449     5.697544\n",
       "1     1.041892     5.568538\n",
       "2     0.568434     6.483901\n",
       "3     0.544053     6.181122\n",
       "4     0.164315     6.482210"
      ]
     },
     "execution_count": 31,
     "metadata": {},
     "output_type": "execute_result"
    }
   ],
   "source": [
    "df_umap.head()"
   ]
  },
  {
   "cell_type": "code",
   "execution_count": 32,
   "id": "9e593dac-b5e6-4bd8-a614-74ea23d364ee",
   "metadata": {
    "tags": []
   },
   "outputs": [
    {
     "data": {
      "text/html": [
       "<div>\n",
       "<style scoped>\n",
       "    .dataframe tbody tr th:only-of-type {\n",
       "        vertical-align: middle;\n",
       "    }\n",
       "\n",
       "    .dataframe tbody tr th {\n",
       "        vertical-align: top;\n",
       "    }\n",
       "\n",
       "    .dataframe thead th {\n",
       "        text-align: right;\n",
       "    }\n",
       "</style>\n",
       "<table border=\"1\" class=\"dataframe\">\n",
       "  <thead>\n",
       "    <tr style=\"text-align: right;\">\n",
       "      <th></th>\n",
       "      <th>0</th>\n",
       "      <th>1</th>\n",
       "      <th>2</th>\n",
       "      <th>3</th>\n",
       "      <th>4</th>\n",
       "      <th>5</th>\n",
       "      <th>6</th>\n",
       "      <th>7</th>\n",
       "      <th>8</th>\n",
       "      <th>9</th>\n",
       "      <th>...</th>\n",
       "      <th>90</th>\n",
       "      <th>91</th>\n",
       "      <th>92</th>\n",
       "      <th>93</th>\n",
       "      <th>94</th>\n",
       "      <th>95</th>\n",
       "      <th>96</th>\n",
       "      <th>97</th>\n",
       "      <th>98</th>\n",
       "      <th>99</th>\n",
       "    </tr>\n",
       "  </thead>\n",
       "  <tbody>\n",
       "    <tr>\n",
       "      <th>0</th>\n",
       "      <td>11</td>\n",
       "      <td>11</td>\n",
       "      <td>13</td>\n",
       "      <td>12</td>\n",
       "      <td>7</td>\n",
       "      <td>7</td>\n",
       "      <td>6</td>\n",
       "      <td>8</td>\n",
       "      <td>6</td>\n",
       "      <td>5</td>\n",
       "      <td>...</td>\n",
       "      <td>8</td>\n",
       "      <td>6</td>\n",
       "      <td>11</td>\n",
       "      <td>7</td>\n",
       "      <td>10</td>\n",
       "      <td>5</td>\n",
       "      <td>9</td>\n",
       "      <td>7</td>\n",
       "      <td>9</td>\n",
       "      <td>12</td>\n",
       "    </tr>\n",
       "    <tr>\n",
       "      <th>1</th>\n",
       "      <td>10</td>\n",
       "      <td>11</td>\n",
       "      <td>12</td>\n",
       "      <td>11</td>\n",
       "      <td>6</td>\n",
       "      <td>6</td>\n",
       "      <td>5</td>\n",
       "      <td>8</td>\n",
       "      <td>6</td>\n",
       "      <td>4</td>\n",
       "      <td>...</td>\n",
       "      <td>8</td>\n",
       "      <td>5</td>\n",
       "      <td>10</td>\n",
       "      <td>6</td>\n",
       "      <td>9</td>\n",
       "      <td>5</td>\n",
       "      <td>8</td>\n",
       "      <td>6</td>\n",
       "      <td>8</td>\n",
       "      <td>11</td>\n",
       "    </tr>\n",
       "  </tbody>\n",
       "</table>\n",
       "<p>2 rows × 100 columns</p>\n",
       "</div>"
      ],
      "text/plain": [
       "   0   1   2   3   4   5   6   7   8   9   ...  90  91  92  93  94  95  96  \\\n",
       "0  11  11  13  12   7   7   6   8   6   5  ...   8   6  11   7  10   5   9   \n",
       "1  10  11  12  11   6   6   5   8   6   4  ...   8   5  10   6   9   5   8   \n",
       "\n",
       "   97  98  99  \n",
       "0   7   9  12  \n",
       "1   6   8  11  \n",
       "\n",
       "[2 rows x 100 columns]"
      ]
     },
     "execution_count": 32,
     "metadata": {},
     "output_type": "execute_result"
    }
   ],
   "source": [
    "df_tree.head(2)"
   ]
  },
  {
   "cell_type": "markdown",
   "id": "74a774ea-ad6a-4bd5-9a15-454c129187d5",
   "metadata": {},
   "source": [
    "## 5.4 Clustering Algorithms"
   ]
  },
  {
   "cell_type": "code",
   "execution_count": 33,
   "id": "899ba5bc-5eab-4877-a665-6ef4af033c51",
   "metadata": {},
   "outputs": [],
   "source": [
    "def train_kmeans(dataframe: pd.DataFrame, k_clusters: list, **kwargs) -> list:\n",
    "    \"\"\"\n",
    "    treine modela KMeans para diferentes valores de k_clusters e calcula a pontuação\n",
    "    da silhueta para cada um.\n",
    "    \n",
    "    Args: \n",
    "        dataframe: um dataframe com as features de treinamento \n",
    "        k_clusters: uma lista de inteiros que representam o número de clusters a serem \n",
    "        testados.\n",
    "        **kwargs: argumentos adicionais para a inicialização do modelo de mistura gaussiana\n",
    "        \n",
    "    Returns: \n",
    "        uma lista de pontuações de silhueta correspondentes a cada valor de k_clusters.\n",
    "    \"\"\"\n",
    "    \n",
    "    silhouette_scores = []\n",
    "    \n",
    "    for k in k_clusters: \n",
    "        # Model training\n",
    "        kmeans_model = KMeans(n_clusters = k, random_state = 42, **kwargs).fit(dataframe)\n",
    "        \n",
    "        # Model predict\n",
    "        labels = kmeans_model.predict(dataframe)\n",
    "        \n",
    "        # Model performance\n",
    "        silhouette = silhouette_score(dataframe, labels, metric = 'euclidean')\n",
    "        silhouette_scores.append(silhouette)\n",
    "     \n",
    "    return silhouette_scores\n",
    "\n",
    "def train_gmm( dataframe: pd.DataFrame, k_clusters: list, **kwargs) -> list:\n",
    "    \"\"\"\n",
    "    \"\"\"\n",
    "    silhouette_scores = []\n",
    "    \n",
    "    for k in k_clusters: \n",
    "        # model training\n",
    "        gmm_model = GaussianMixture(n_components = k, random_state = 42, **kwargs).fit(dataframe)\n",
    "        \n",
    "        labels = gmm_model.predict(dataframe)\n",
    "        \n",
    "        # Model Performance\n",
    "        silhouette = silhouette_score(dataframe, labels, metric = 'euclidean')\n",
    "        silhouette_scores.append(silhouette)\n",
    "    \n",
    "    return silhouette_scores"
   ]
  },
  {
   "cell_type": "code",
   "execution_count": 34,
   "id": "1cbe4be5-bab7-40a8-b880-42735f17a255",
   "metadata": {
    "tags": []
   },
   "outputs": [],
   "source": [
    "kmeans_list =  train_kmeans( df_pca, k_clusters, n_init = 10)"
   ]
  },
  {
   "cell_type": "code",
   "execution_count": 35,
   "id": "f0904cdf-ee3a-4528-8c3d-1b946ea31468",
   "metadata": {
    "tags": []
   },
   "outputs": [],
   "source": [
    "gmm_list =  train_gmm( df_pca, k_clusters, n_init = 10)"
   ]
  },
  {
   "cell_type": "code",
   "execution_count": 36,
   "id": "54890dc7-c2a3-4ebf-8bc1-06a1fd646acb",
   "metadata": {
    "tags": []
   },
   "outputs": [
    {
     "data": {
      "text/plain": [
       "array([2, 3, 4])"
      ]
     },
     "execution_count": 36,
     "metadata": {},
     "output_type": "execute_result"
    }
   ],
   "source": [
    "k_clusters"
   ]
  },
  {
   "cell_type": "code",
   "execution_count": 37,
   "id": "436cb818-55cc-4d4b-8a1c-ef6a33aeb979",
   "metadata": {
    "tags": []
   },
   "outputs": [
    {
     "data": {
      "text/plain": [
       "[0.6220741584917507, 0.5372544896651817, 0.6274491596268614]"
      ]
     },
     "execution_count": 37,
     "metadata": {},
     "output_type": "execute_result"
    }
   ],
   "source": [
    "kmeans_list"
   ]
  },
  {
   "cell_type": "code",
   "execution_count": 38,
   "id": "64b764fa-7c8c-4668-9291-d602984e5095",
   "metadata": {
    "tags": []
   },
   "outputs": [
    {
     "data": {
      "text/plain": [
       "[0.626615506534057, 0.627400195924751, 0.12336904282013061]"
      ]
     },
     "execution_count": 38,
     "metadata": {},
     "output_type": "execute_result"
    }
   ],
   "source": [
    "gmm_list"
   ]
  },
  {
   "cell_type": "code",
   "execution_count": 39,
   "id": "4cc3a8c5-cad5-46cd-a530-62f1101a60a8",
   "metadata": {
    "tags": []
   },
   "outputs": [],
   "source": [
    "df_results_pca = pd.DataFrame({\n",
    "                                'scaler': str(scaler),\n",
    "                                'Reducer': 'PCA',\n",
    "                                'Cluster': k_clusters, \n",
    "                                'KMeans': kmeans_list,\n",
    "                                'GCM': gmm_list\n",
    "                                })"
   ]
  },
  {
   "cell_type": "code",
   "execution_count": 40,
   "id": "d4b94b95-6c8a-457f-a2f6-c1762d8d3dc3",
   "metadata": {},
   "outputs": [
    {
     "data": {
      "text/html": [
       "<div>\n",
       "<style scoped>\n",
       "    .dataframe tbody tr th:only-of-type {\n",
       "        vertical-align: middle;\n",
       "    }\n",
       "\n",
       "    .dataframe tbody tr th {\n",
       "        vertical-align: top;\n",
       "    }\n",
       "\n",
       "    .dataframe thead th {\n",
       "        text-align: right;\n",
       "    }\n",
       "</style>\n",
       "<table border=\"1\" class=\"dataframe\">\n",
       "  <thead>\n",
       "    <tr style=\"text-align: right;\">\n",
       "      <th></th>\n",
       "      <th>scaler</th>\n",
       "      <th>Reducer</th>\n",
       "      <th>Cluster</th>\n",
       "      <th>KMeans</th>\n",
       "      <th>GCM</th>\n",
       "    </tr>\n",
       "  </thead>\n",
       "  <tbody>\n",
       "    <tr>\n",
       "      <th>0</th>\n",
       "      <td>MinMaxScaler()</td>\n",
       "      <td>PCA</td>\n",
       "      <td>2</td>\n",
       "      <td>0.622074</td>\n",
       "      <td>0.626616</td>\n",
       "    </tr>\n",
       "    <tr>\n",
       "      <th>1</th>\n",
       "      <td>MinMaxScaler()</td>\n",
       "      <td>PCA</td>\n",
       "      <td>3</td>\n",
       "      <td>0.537254</td>\n",
       "      <td>0.627400</td>\n",
       "    </tr>\n",
       "    <tr>\n",
       "      <th>2</th>\n",
       "      <td>MinMaxScaler()</td>\n",
       "      <td>PCA</td>\n",
       "      <td>4</td>\n",
       "      <td>0.627449</td>\n",
       "      <td>0.123369</td>\n",
       "    </tr>\n",
       "  </tbody>\n",
       "</table>\n",
       "</div>"
      ],
      "text/plain": [
       "           scaler Reducer  Cluster    KMeans       GCM\n",
       "0  MinMaxScaler()     PCA        2  0.622074  0.626616\n",
       "1  MinMaxScaler()     PCA        3  0.537254  0.627400\n",
       "2  MinMaxScaler()     PCA        4  0.627449  0.123369"
      ]
     },
     "execution_count": 40,
     "metadata": {},
     "output_type": "execute_result"
    }
   ],
   "source": [
    "df_results_pca"
   ]
  },
  {
   "cell_type": "code",
   "execution_count": 41,
   "id": "7367b8fe-49e3-4bf3-be88-fd7f62d5c408",
   "metadata": {
    "tags": []
   },
   "outputs": [
    {
     "data": {
      "text/html": [
       "<div>\n",
       "<style scoped>\n",
       "    .dataframe tbody tr th:only-of-type {\n",
       "        vertical-align: middle;\n",
       "    }\n",
       "\n",
       "    .dataframe tbody tr th {\n",
       "        vertical-align: top;\n",
       "    }\n",
       "\n",
       "    .dataframe thead th {\n",
       "        text-align: right;\n",
       "    }\n",
       "</style>\n",
       "<table border=\"1\" class=\"dataframe\">\n",
       "  <thead>\n",
       "    <tr style=\"text-align: right;\">\n",
       "      <th></th>\n",
       "      <th>scaler</th>\n",
       "      <th>Reducer</th>\n",
       "      <th>Cluster</th>\n",
       "      <th>KMeans</th>\n",
       "      <th>GCM</th>\n",
       "    </tr>\n",
       "  </thead>\n",
       "  <tbody>\n",
       "    <tr>\n",
       "      <th>0</th>\n",
       "      <td>MinMaxScaler()</td>\n",
       "      <td>UMAP</td>\n",
       "      <td>2</td>\n",
       "      <td>0.592400</td>\n",
       "      <td>0.592400</td>\n",
       "    </tr>\n",
       "    <tr>\n",
       "      <th>1</th>\n",
       "      <td>MinMaxScaler()</td>\n",
       "      <td>UMAP</td>\n",
       "      <td>3</td>\n",
       "      <td>0.464587</td>\n",
       "      <td>0.407229</td>\n",
       "    </tr>\n",
       "    <tr>\n",
       "      <th>2</th>\n",
       "      <td>MinMaxScaler()</td>\n",
       "      <td>UMAP</td>\n",
       "      <td>4</td>\n",
       "      <td>0.497216</td>\n",
       "      <td>0.302360</td>\n",
       "    </tr>\n",
       "  </tbody>\n",
       "</table>\n",
       "</div>"
      ],
      "text/plain": [
       "           scaler Reducer  Cluster    KMeans       GCM\n",
       "0  MinMaxScaler()    UMAP        2  0.592400  0.592400\n",
       "1  MinMaxScaler()    UMAP        3  0.464587  0.407229\n",
       "2  MinMaxScaler()    UMAP        4  0.497216  0.302360"
      ]
     },
     "execution_count": 41,
     "metadata": {},
     "output_type": "execute_result"
    }
   ],
   "source": [
    "gmm_list    = train_gmm(df_umap, k_clusters, n_init = 10)\n",
    "kmeans_list = train_kmeans( df_umap, k_clusters, n_init = 10)\n",
    "\n",
    "df_results_umap = pd.DataFrame({\n",
    "                                'scaler' : str(scaler),\n",
    "                                'Reducer': 'UMAP',\n",
    "                                'Cluster': k_clusters, \n",
    "                                'KMeans' : kmeans_list,\n",
    "                                'GCM'    : gmm_list\n",
    "                                })\n",
    "df_results_umap"
   ]
  },
  {
   "cell_type": "code",
   "execution_count": 42,
   "id": "4172505d-1b69-4268-a842-bb693ce20a44",
   "metadata": {
    "tags": []
   },
   "outputs": [
    {
     "data": {
      "text/html": [
       "<div>\n",
       "<style scoped>\n",
       "    .dataframe tbody tr th:only-of-type {\n",
       "        vertical-align: middle;\n",
       "    }\n",
       "\n",
       "    .dataframe tbody tr th {\n",
       "        vertical-align: top;\n",
       "    }\n",
       "\n",
       "    .dataframe thead th {\n",
       "        text-align: right;\n",
       "    }\n",
       "</style>\n",
       "<table border=\"1\" class=\"dataframe\">\n",
       "  <thead>\n",
       "    <tr style=\"text-align: right;\">\n",
       "      <th></th>\n",
       "      <th>scaler</th>\n",
       "      <th>Reducer</th>\n",
       "      <th>Cluster</th>\n",
       "      <th>KMeans</th>\n",
       "      <th>GCM</th>\n",
       "    </tr>\n",
       "  </thead>\n",
       "  <tbody>\n",
       "    <tr>\n",
       "      <th>0</th>\n",
       "      <td>MinMaxScaler()</td>\n",
       "      <td>Tree_embedding_tsne</td>\n",
       "      <td>2</td>\n",
       "      <td>0.616358</td>\n",
       "      <td>0.602082</td>\n",
       "    </tr>\n",
       "    <tr>\n",
       "      <th>1</th>\n",
       "      <td>MinMaxScaler()</td>\n",
       "      <td>Tree_embedding_tsne</td>\n",
       "      <td>3</td>\n",
       "      <td>0.547061</td>\n",
       "      <td>0.526369</td>\n",
       "    </tr>\n",
       "    <tr>\n",
       "      <th>2</th>\n",
       "      <td>MinMaxScaler()</td>\n",
       "      <td>Tree_embedding_tsne</td>\n",
       "      <td>4</td>\n",
       "      <td>0.494842</td>\n",
       "      <td>0.413007</td>\n",
       "    </tr>\n",
       "  </tbody>\n",
       "</table>\n",
       "</div>"
      ],
      "text/plain": [
       "           scaler              Reducer  Cluster    KMeans       GCM\n",
       "0  MinMaxScaler()  Tree_embedding_tsne        2  0.616358  0.602082\n",
       "1  MinMaxScaler()  Tree_embedding_tsne        3  0.547061  0.526369\n",
       "2  MinMaxScaler()  Tree_embedding_tsne        4  0.494842  0.413007"
      ]
     },
     "execution_count": 42,
     "metadata": {},
     "output_type": "execute_result"
    }
   ],
   "source": [
    "df_leaf               = train_tree_embedding( scaler, df_eda, n_jobs = -1, n_estimators = 10)\n",
    "\n",
    "df_tree_tsne          = train_tsne( scaler, df_leaf, to_scaling = False )\n",
    "gmm_list_tree_tsne    = train_gmm( df_tree_tsne, k_clusters, n_init = 10)\n",
    "kmeans_list_tree_tsne = train_kmeans( df_tree_tsne, k_clusters, n_init = 10)\n",
    "df_results_tree_tsne  = pd.DataFrame({\n",
    "                                'scaler' : str(scaler),\n",
    "                                'Reducer': 'Tree_embedding_tsne',\n",
    "                                'Cluster': k_clusters, \n",
    "                                'KMeans' : kmeans_list_tree_tsne,\n",
    "                                'GCM'    : gmm_list_tree_tsne\n",
    "                                })\n",
    "df_results_tree_tsne"
   ]
  },
  {
   "cell_type": "code",
   "execution_count": 43,
   "id": "4b95102c-b307-4cec-b6fe-cd32bb4cbb37",
   "metadata": {
    "tags": []
   },
   "outputs": [
    {
     "data": {
      "text/html": [
       "<div>\n",
       "<style scoped>\n",
       "    .dataframe tbody tr th:only-of-type {\n",
       "        vertical-align: middle;\n",
       "    }\n",
       "\n",
       "    .dataframe tbody tr th {\n",
       "        vertical-align: top;\n",
       "    }\n",
       "\n",
       "    .dataframe thead th {\n",
       "        text-align: right;\n",
       "    }\n",
       "</style>\n",
       "<table border=\"1\" class=\"dataframe\">\n",
       "  <thead>\n",
       "    <tr style=\"text-align: right;\">\n",
       "      <th></th>\n",
       "      <th>scaler</th>\n",
       "      <th>Reducer</th>\n",
       "      <th>Cluster</th>\n",
       "      <th>KMeans</th>\n",
       "      <th>GCM</th>\n",
       "    </tr>\n",
       "  </thead>\n",
       "  <tbody>\n",
       "    <tr>\n",
       "      <th>0</th>\n",
       "      <td>MinMaxScaler()</td>\n",
       "      <td>Tree_embedding_pca</td>\n",
       "      <td>2</td>\n",
       "      <td>0.558770</td>\n",
       "      <td>0.558770</td>\n",
       "    </tr>\n",
       "    <tr>\n",
       "      <th>1</th>\n",
       "      <td>MinMaxScaler()</td>\n",
       "      <td>Tree_embedding_pca</td>\n",
       "      <td>3</td>\n",
       "      <td>0.507156</td>\n",
       "      <td>0.493844</td>\n",
       "    </tr>\n",
       "    <tr>\n",
       "      <th>2</th>\n",
       "      <td>MinMaxScaler()</td>\n",
       "      <td>Tree_embedding_pca</td>\n",
       "      <td>4</td>\n",
       "      <td>0.468778</td>\n",
       "      <td>0.468778</td>\n",
       "    </tr>\n",
       "  </tbody>\n",
       "</table>\n",
       "</div>"
      ],
      "text/plain": [
       "           scaler             Reducer  Cluster    KMeans       GCM\n",
       "0  MinMaxScaler()  Tree_embedding_pca        2  0.558770  0.558770\n",
       "1  MinMaxScaler()  Tree_embedding_pca        3  0.507156  0.493844\n",
       "2  MinMaxScaler()  Tree_embedding_pca        4  0.468778  0.468778"
      ]
     },
     "execution_count": 43,
     "metadata": {},
     "output_type": "execute_result"
    }
   ],
   "source": [
    "df_tree_pca         = train_pca(scaler, df_leaf, to_scaling = False)\n",
    "\n",
    "\n",
    "gmm_list_tree_pca   = train_gmm( df_tree_pca, k_clusters, n_init = 100)\n",
    "kmeans_list_tree_pca = train_kmeans( df_tree_pca, k_clusters, n_init = 10)\n",
    "\n",
    "df_results_tree_pca = pd.DataFrame({\n",
    "                                'scaler' : str(scaler),\n",
    "                                'Reducer': 'Tree_embedding_pca',\n",
    "                                'Cluster': k_clusters, \n",
    "                                'KMeans' : kmeans_list_tree_pca,\n",
    "                                'GCM'    : gmm_list_tree_pca, \n",
    "                                })\n",
    "df_results_tree_pca"
   ]
  },
  {
   "cell_type": "code",
   "execution_count": 46,
   "id": "18be23b6-f027-4161-b4f1-b5555141f6b0",
   "metadata": {
    "tags": []
   },
   "outputs": [
    {
     "data": {
      "text/html": [
       "<div>\n",
       "<style scoped>\n",
       "    .dataframe tbody tr th:only-of-type {\n",
       "        vertical-align: middle;\n",
       "    }\n",
       "\n",
       "    .dataframe tbody tr th {\n",
       "        vertical-align: top;\n",
       "    }\n",
       "\n",
       "    .dataframe thead th {\n",
       "        text-align: right;\n",
       "    }\n",
       "</style>\n",
       "<table border=\"1\" class=\"dataframe\">\n",
       "  <thead>\n",
       "    <tr style=\"text-align: right;\">\n",
       "      <th></th>\n",
       "      <th>scaler</th>\n",
       "      <th>Reducer</th>\n",
       "      <th>Cluster</th>\n",
       "      <th>KMeans</th>\n",
       "      <th>GCM</th>\n",
       "    </tr>\n",
       "  </thead>\n",
       "  <tbody>\n",
       "    <tr>\n",
       "      <th>0</th>\n",
       "      <td>MinMaxScaler()</td>\n",
       "      <td>PCA</td>\n",
       "      <td>2</td>\n",
       "      <td>0.622074</td>\n",
       "      <td>0.626616</td>\n",
       "    </tr>\n",
       "    <tr>\n",
       "      <th>1</th>\n",
       "      <td>MinMaxScaler()</td>\n",
       "      <td>PCA</td>\n",
       "      <td>3</td>\n",
       "      <td>0.537254</td>\n",
       "      <td>0.627400</td>\n",
       "    </tr>\n",
       "    <tr>\n",
       "      <th>2</th>\n",
       "      <td>MinMaxScaler()</td>\n",
       "      <td>PCA</td>\n",
       "      <td>4</td>\n",
       "      <td>0.627449</td>\n",
       "      <td>0.123369</td>\n",
       "    </tr>\n",
       "    <tr>\n",
       "      <th>0</th>\n",
       "      <td>MinMaxScaler()</td>\n",
       "      <td>UMAP</td>\n",
       "      <td>2</td>\n",
       "      <td>0.592400</td>\n",
       "      <td>0.592400</td>\n",
       "    </tr>\n",
       "    <tr>\n",
       "      <th>1</th>\n",
       "      <td>MinMaxScaler()</td>\n",
       "      <td>UMAP</td>\n",
       "      <td>3</td>\n",
       "      <td>0.464587</td>\n",
       "      <td>0.407229</td>\n",
       "    </tr>\n",
       "    <tr>\n",
       "      <th>2</th>\n",
       "      <td>MinMaxScaler()</td>\n",
       "      <td>UMAP</td>\n",
       "      <td>4</td>\n",
       "      <td>0.497216</td>\n",
       "      <td>0.302360</td>\n",
       "    </tr>\n",
       "    <tr>\n",
       "      <th>0</th>\n",
       "      <td>MinMaxScaler()</td>\n",
       "      <td>Tree_embedding_tsne</td>\n",
       "      <td>2</td>\n",
       "      <td>0.616358</td>\n",
       "      <td>0.602082</td>\n",
       "    </tr>\n",
       "    <tr>\n",
       "      <th>1</th>\n",
       "      <td>MinMaxScaler()</td>\n",
       "      <td>Tree_embedding_tsne</td>\n",
       "      <td>3</td>\n",
       "      <td>0.547061</td>\n",
       "      <td>0.526369</td>\n",
       "    </tr>\n",
       "    <tr>\n",
       "      <th>2</th>\n",
       "      <td>MinMaxScaler()</td>\n",
       "      <td>Tree_embedding_tsne</td>\n",
       "      <td>4</td>\n",
       "      <td>0.494842</td>\n",
       "      <td>0.413007</td>\n",
       "    </tr>\n",
       "    <tr>\n",
       "      <th>0</th>\n",
       "      <td>MinMaxScaler()</td>\n",
       "      <td>Tree_embedding_pca</td>\n",
       "      <td>2</td>\n",
       "      <td>0.558770</td>\n",
       "      <td>0.558770</td>\n",
       "    </tr>\n",
       "    <tr>\n",
       "      <th>1</th>\n",
       "      <td>MinMaxScaler()</td>\n",
       "      <td>Tree_embedding_pca</td>\n",
       "      <td>3</td>\n",
       "      <td>0.507156</td>\n",
       "      <td>0.493844</td>\n",
       "    </tr>\n",
       "    <tr>\n",
       "      <th>2</th>\n",
       "      <td>MinMaxScaler()</td>\n",
       "      <td>Tree_embedding_pca</td>\n",
       "      <td>4</td>\n",
       "      <td>0.468778</td>\n",
       "      <td>0.468778</td>\n",
       "    </tr>\n",
       "  </tbody>\n",
       "</table>\n",
       "</div>"
      ],
      "text/plain": [
       "           scaler              Reducer  Cluster    KMeans       GCM\n",
       "0  MinMaxScaler()                  PCA        2  0.622074  0.626616\n",
       "1  MinMaxScaler()                  PCA        3  0.537254  0.627400\n",
       "2  MinMaxScaler()                  PCA        4  0.627449  0.123369\n",
       "0  MinMaxScaler()                 UMAP        2  0.592400  0.592400\n",
       "1  MinMaxScaler()                 UMAP        3  0.464587  0.407229\n",
       "2  MinMaxScaler()                 UMAP        4  0.497216  0.302360\n",
       "0  MinMaxScaler()  Tree_embedding_tsne        2  0.616358  0.602082\n",
       "1  MinMaxScaler()  Tree_embedding_tsne        3  0.547061  0.526369\n",
       "2  MinMaxScaler()  Tree_embedding_tsne        4  0.494842  0.413007\n",
       "0  MinMaxScaler()   Tree_embedding_pca        2  0.558770  0.558770\n",
       "1  MinMaxScaler()   Tree_embedding_pca        3  0.507156  0.493844\n",
       "2  MinMaxScaler()   Tree_embedding_pca        4  0.468778  0.468778"
      ]
     },
     "execution_count": 46,
     "metadata": {},
     "output_type": "execute_result"
    }
   ],
   "source": [
    "df_final_results = pd.concat([df_results_pca, df_results_umap, df_results_tree_tsne, df_results_tree_pca], axis = 0)\n",
    "df_final_results"
   ]
  },
  {
   "cell_type": "markdown",
   "id": "89c6156e-0d89-4f25-a9f0-ec76e3bc270b",
   "metadata": {
    "tags": []
   },
   "source": [
    "## 5.6 Save Results"
   ]
  },
  {
   "cell_type": "code",
   "execution_count": 48,
   "id": "fecc3a31-d486-4203-a834-f0b5c55d751b",
   "metadata": {},
   "outputs": [],
   "source": [
    "# Salvar no bigquery\n",
    "def salvar_no_bigquery(\n",
    "    dataframe         : pd.DataFrame, \n",
    "    project_name      : str, \n",
    "    dataset_table_name: str ): \n",
    "    \n",
    "    client = bigquery.Client(project = project_name)\n",
    "    \n",
    "    job = client.load_table_from_dataframe(dataframe, dataset_table_name)\n",
    "    job.result() # tempo 58 do vídeo aula 6"
   ]
  },
  {
   "cell_type": "code",
   "execution_count": 49,
   "id": "05119668-5043-4587-9eba-ef70f2af0631",
   "metadata": {
    "tags": []
   },
   "outputs": [],
   "source": [
    "salvar_no_bigquery(df_final_results,\n",
    "                   project_name = 'braided-period-442813-v0',\n",
    "                  dataset_table_name = 'ecommerce_cluster_insider.resultado_experimentos_clustering')\n",
    "# no bigquery minha pasta de projecto se chama braided-period-442813-v0, nessa minha pasta de projectos temos uma subpasta \n",
    "# ou schema de tabelas chamada ecommerce_cluster_insider\n",
    "# nesse estamos criando uma tabela resutado_exeperimentos_clustering"
   ]
  },
  {
   "cell_type": "code",
   "execution_count": null,
   "id": "8c59afd6-b1a6-4be2-84fb-4424410e1313",
   "metadata": {},
   "outputs": [],
   "source": []
  }
 ],
 "metadata": {
  "environment": {
   "kernel": "conda-base-py",
   "name": "workbench-notebooks.m127",
   "type": "gcloud",
   "uri": "us-docker.pkg.dev/deeplearning-platform-release/gcr.io/workbench-notebooks:m127"
  },
  "kernelspec": {
   "display_name": "Python 3 (ipykernel)",
   "language": "python",
   "name": "conda-base-py"
  },
  "language_info": {
   "codemirror_mode": {
    "name": "ipython",
    "version": 3
   },
   "file_extension": ".py",
   "mimetype": "text/x-python",
   "name": "python",
   "nbconvert_exporter": "python",
   "pygments_lexer": "ipython3",
   "version": "3.10.16"
  }
 },
 "nbformat": 4,
 "nbformat_minor": 5
}
